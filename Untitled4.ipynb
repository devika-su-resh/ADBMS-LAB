{
  "nbformat": 4,
  "nbformat_minor": 0,
  "metadata": {
    "colab": {
      "provenance": [],
      "authorship_tag": "ABX9TyPQ/Vd69K+UhjQ4wEToO7+6",
      "include_colab_link": true
    },
    "kernelspec": {
      "name": "python3",
      "display_name": "Python 3"
    },
    "language_info": {
      "name": "python"
    }
  },
  "cells": [
    {
      "cell_type": "markdown",
      "metadata": {
        "id": "view-in-github",
        "colab_type": "text"
      },
      "source": [
        "<a href=\"https://colab.research.google.com/github/devika-su-resh/ADBMS-LAB/blob/main/Untitled4.ipynb\" target=\"_parent\"><img src=\"https://colab.research.google.com/assets/colab-badge.svg\" alt=\"Open In Colab\"/></a>"
      ]
    },
    {
      "cell_type": "code",
      "execution_count": 2,
      "metadata": {
        "colab": {
          "base_uri": "https://localhost:8080/"
        },
        "id": "xdGLNz4-mPox",
        "outputId": "1476bae7-4699-428e-d406-40e31af2ca07"
      },
      "outputs": [
        {
          "output_type": "stream",
          "name": "stdout",
          "text": [
            "1 2 3 4\n",
            "1*2*3*4\n",
            "1 2 3 4&"
          ]
        }
      ],
      "source": [
        "print(1,2,3,4)\n",
        "print(1,2,3,4,sep='*')\n",
        "print(1,2,3,4,end='&')"
      ]
    },
    {
      "cell_type": "code",
      "source": [
        "a=1\n",
        "b=1.1\n",
        "c='hello me'\n",
        "d= True\n",
        "print(type(a), type(b),type(c),type(d))\n",
        "\n"
      ],
      "metadata": {
        "colab": {
          "base_uri": "https://localhost:8080/"
        },
        "id": "oGF3GB8lnQiy",
        "outputId": "f277a1d1-a2c0-4eb4-c039-e9ea8a03ed1d"
      },
      "execution_count": 3,
      "outputs": [
        {
          "output_type": "stream",
          "name": "stdout",
          "text": [
            "<class 'int'> <class 'float'> <class 'str'> <class 'bool'>\n"
          ]
        }
      ]
    },
    {
      "cell_type": "code",
      "source": [
        "na=(input(\"Enter your name :\"))\n",
        "print(\"hi\",na)"
      ],
      "metadata": {
        "colab": {
          "base_uri": "https://localhost:8080/"
        },
        "id": "3-Aw_bqvtdRi",
        "outputId": "a715ef12-7a51-4594-ab88-ad941623abdb"
      },
      "execution_count": 4,
      "outputs": [
        {
          "output_type": "stream",
          "name": "stdout",
          "text": [
            "Enter your name :devika\n",
            "hi devika\n"
          ]
        }
      ]
    },
    {
      "cell_type": "code",
      "source": [
        "n1=int(input(\"Enter the first number\"))\n",
        "n2=int(input(\"Enter the second number\"))\n",
        "sum=n1 + n2\n",
        "print(\"the sum = \",sum)\n"
      ],
      "metadata": {
        "colab": {
          "base_uri": "https://localhost:8080/"
        },
        "id": "QktKdoxXvK8c",
        "outputId": "e8142aa2-221c-45d1-8341-29c9fba147af"
      },
      "execution_count": 1,
      "outputs": [
        {
          "output_type": "stream",
          "name": "stdout",
          "text": [
            "Enter the first number10\n",
            "Enter the second number20\n",
            "the sum =  30\n"
          ]
        }
      ]
    },
    {
      "cell_type": "code",
      "source": [
        "x=5\n",
        "y=3\n",
        "print(\"power :\",x**y)\n",
        "print(\"is x>y ?\",x>y)\n"
      ],
      "metadata": {
        "colab": {
          "base_uri": "https://localhost:8080/"
        },
        "id": "fOFfAwqWDX8j",
        "outputId": "8d44ca94-da01-47c7-9711-907c550b77ac"
      },
      "execution_count": 3,
      "outputs": [
        {
          "output_type": "stream",
          "name": "stdout",
          "text": [
            "power : 125\n",
            "is x>y ? True\n"
          ]
        }
      ]
    },
    {
      "cell_type": "markdown",
      "source": [
        "conditional if else"
      ],
      "metadata": {
        "id": "ZJDvL-yyI_xH"
      }
    },
    {
      "cell_type": "code",
      "source": [
        "age=int(input(\"Enter your age :\"))\n",
        "if age>=18:\n",
        "  print(\"You are eligible to apply for the driving license.\")\n",
        "else:\n",
        "  print(\"You are not eligible\")"
      ],
      "metadata": {
        "colab": {
          "base_uri": "https://localhost:8080/"
        },
        "id": "mQ8kZSGVE1nE",
        "outputId": "42eb7cbd-fdaf-4ef5-dcc2-3efe2b0b97a4"
      },
      "execution_count": 4,
      "outputs": [
        {
          "output_type": "stream",
          "name": "stdout",
          "text": [
            "Enter your age :23\n",
            "You are eligible to apply for the driving license.\n"
          ]
        }
      ]
    },
    {
      "cell_type": "markdown",
      "source": [
        "num even or odd"
      ],
      "metadata": {
        "id": "FvJnaJlvOCAy"
      }
    },
    {
      "cell_type": "code",
      "source": [
        "num=int(input(\"Enter the number :\"))\n",
        "if num % 2==0:\n",
        "  print(\"its an even number\")\n",
        "else:\n",
        "  print(\"Its odd number\")\n",
        "\n",
        ""
      ],
      "metadata": {
        "colab": {
          "base_uri": "https://localhost:8080/"
        },
        "id": "mRcenN14NbCl",
        "outputId": "6a7eac51-4c4a-42f4-9774-0560c3278acd"
      },
      "execution_count": 6,
      "outputs": [
        {
          "output_type": "stream",
          "name": "stdout",
          "text": [
            "Enter the number :3\n",
            "Its odd number\n"
          ]
        }
      ]
    },
    {
      "cell_type": "markdown",
      "source": [
        "largest of two num"
      ],
      "metadata": {
        "id": "hKBm_AsnQq65"
      }
    },
    {
      "cell_type": "code",
      "source": [
        "n1=int(input(\"Enter the fisrt number :\"))\n",
        "n2=int(input(\"Enter the second number :\"))\n",
        "if n1>n2:\n",
        "  print(\"the largest number is \",n1)\n",
        "\n",
        "else:\n",
        "  print(\"The largest number is \",n2)"
      ],
      "metadata": {
        "colab": {
          "base_uri": "https://localhost:8080/"
        },
        "id": "CXa48qoBQvHp",
        "outputId": "38012dbb-d409-4f46-b0c5-57e596e96bb9"
      },
      "execution_count": 11,
      "outputs": [
        {
          "output_type": "stream",
          "name": "stdout",
          "text": [
            "Enter the fisrt number :10\n",
            "Enter the second number :2\n",
            "the largest number is  10\n"
          ]
        }
      ]
    },
    {
      "cell_type": "markdown",
      "source": [
        "loops"
      ],
      "metadata": {
        "id": "xIKLAHKkSOag"
      }
    },
    {
      "cell_type": "code",
      "source": [],
      "metadata": {
        "id": "5yQoIbX6SRqy"
      },
      "execution_count": null,
      "outputs": []
    }
  ]
}